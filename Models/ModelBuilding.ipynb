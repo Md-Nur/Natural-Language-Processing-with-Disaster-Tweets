{
 "cells": [
  {
   "cell_type": "code",
   "execution_count": 32,
   "metadata": {},
   "outputs": [
    {
     "data": {
      "text/plain": [
       "'2.7.0'"
      ]
     },
     "execution_count": 32,
     "metadata": {},
     "output_type": "execute_result"
    }
   ],
   "source": [
    "import tensorflow as tf\n",
    "import numpy as np\n",
    "import pandas as pd \n",
    "from tensorflow.keras.layers import Dense, LSTM,Embedding\n",
    "from tensorflow.keras.preprocessing.sequence import pad_sequences\n",
    "from tensorflow.keras.models import Sequential\n",
    "from tensorflow.keras.preprocessing.text import one_hot\n",
    "import nltk\n",
    "import re \n",
    "from nltk.corpus import stopwords\n",
    "from nltk.stem.porter import PorterStemmer\n",
    "from sklearn.model_selection import train_test_split\n",
    "\n",
    "tf.__version__"
   ]
  },
  {
   "cell_type": "code",
   "execution_count": 2,
   "metadata": {},
   "outputs": [],
   "source": [
    "vocSize = 5000"
   ]
  },
  {
   "cell_type": "markdown",
   "metadata": {},
   "source": [
    "# One hot represtation"
   ]
  },
  {
   "cell_type": "code",
   "execution_count": 3,
   "metadata": {},
   "outputs": [],
   "source": [
    "dataset = pd.read_csv('finalTrain.csv')\n",
    "df = pd.read_csv('finalTest.csv')"
   ]
  },
  {
   "cell_type": "code",
   "execution_count": 4,
   "metadata": {},
   "outputs": [
    {
     "name": "stderr",
     "output_type": "stream",
     "text": [
      "[nltk_data] Downloading package stopwords to C:\\Users\\Muhammad\n",
      "[nltk_data]     Nur\\AppData\\Roaming\\nltk_data...\n",
      "[nltk_data]   Package stopwords is already up-to-date!\n"
     ]
    },
    {
     "data": {
      "text/plain": [
       "True"
      ]
     },
     "execution_count": 4,
     "metadata": {},
     "output_type": "execute_result"
    }
   ],
   "source": [
    "nltk.download('stopwords')"
   ]
  },
  {
   "cell_type": "code",
   "execution_count": 5,
   "metadata": {},
   "outputs": [
    {
     "data": {
      "text/html": [
       "<div>\n",
       "<style scoped>\n",
       "    .dataframe tbody tr th:only-of-type {\n",
       "        vertical-align: middle;\n",
       "    }\n",
       "\n",
       "    .dataframe tbody tr th {\n",
       "        vertical-align: top;\n",
       "    }\n",
       "\n",
       "    .dataframe thead th {\n",
       "        text-align: right;\n",
       "    }\n",
       "</style>\n",
       "<table border=\"1\" class=\"dataframe\">\n",
       "  <thead>\n",
       "    <tr style=\"text-align: right;\">\n",
       "      <th></th>\n",
       "      <th>keyword</th>\n",
       "      <th>text</th>\n",
       "      <th>target</th>\n",
       "      <th>usa</th>\n",
       "      <th>new york</th>\n",
       "      <th>worldwide</th>\n",
       "      <th>washington</th>\n",
       "      <th>england</th>\n",
       "      <th>los angeles</th>\n",
       "      <th>uk</th>\n",
       "      <th>california</th>\n",
       "      <th>canada</th>\n",
       "      <th>nigeria</th>\n",
       "    </tr>\n",
       "  </thead>\n",
       "  <tbody>\n",
       "    <tr>\n",
       "      <th>0</th>\n",
       "      <td>NaN</td>\n",
       "      <td>Our Deeds are the Reason of this #earthquake M...</td>\n",
       "      <td>1.0</td>\n",
       "      <td>0</td>\n",
       "      <td>0</td>\n",
       "      <td>0</td>\n",
       "      <td>0</td>\n",
       "      <td>0</td>\n",
       "      <td>0</td>\n",
       "      <td>0</td>\n",
       "      <td>0</td>\n",
       "      <td>0</td>\n",
       "      <td>0</td>\n",
       "    </tr>\n",
       "    <tr>\n",
       "      <th>1</th>\n",
       "      <td>NaN</td>\n",
       "      <td>Forest fire near La Ronge Sask. Canada</td>\n",
       "      <td>1.0</td>\n",
       "      <td>0</td>\n",
       "      <td>0</td>\n",
       "      <td>0</td>\n",
       "      <td>0</td>\n",
       "      <td>0</td>\n",
       "      <td>0</td>\n",
       "      <td>0</td>\n",
       "      <td>0</td>\n",
       "      <td>0</td>\n",
       "      <td>0</td>\n",
       "    </tr>\n",
       "    <tr>\n",
       "      <th>2</th>\n",
       "      <td>NaN</td>\n",
       "      <td>All residents asked to 'shelter in place' are ...</td>\n",
       "      <td>1.0</td>\n",
       "      <td>0</td>\n",
       "      <td>0</td>\n",
       "      <td>0</td>\n",
       "      <td>0</td>\n",
       "      <td>0</td>\n",
       "      <td>0</td>\n",
       "      <td>0</td>\n",
       "      <td>0</td>\n",
       "      <td>0</td>\n",
       "      <td>0</td>\n",
       "    </tr>\n",
       "    <tr>\n",
       "      <th>3</th>\n",
       "      <td>NaN</td>\n",
       "      <td>13,000 people receive #wildfires evacuation or...</td>\n",
       "      <td>1.0</td>\n",
       "      <td>0</td>\n",
       "      <td>0</td>\n",
       "      <td>0</td>\n",
       "      <td>0</td>\n",
       "      <td>0</td>\n",
       "      <td>0</td>\n",
       "      <td>0</td>\n",
       "      <td>0</td>\n",
       "      <td>0</td>\n",
       "      <td>0</td>\n",
       "    </tr>\n",
       "    <tr>\n",
       "      <th>4</th>\n",
       "      <td>NaN</td>\n",
       "      <td>Just got sent this photo from Ruby #Alaska as ...</td>\n",
       "      <td>1.0</td>\n",
       "      <td>0</td>\n",
       "      <td>0</td>\n",
       "      <td>0</td>\n",
       "      <td>0</td>\n",
       "      <td>0</td>\n",
       "      <td>0</td>\n",
       "      <td>0</td>\n",
       "      <td>0</td>\n",
       "      <td>0</td>\n",
       "      <td>0</td>\n",
       "    </tr>\n",
       "  </tbody>\n",
       "</table>\n",
       "</div>"
      ],
      "text/plain": [
       "  keyword                                               text  target  usa  \\\n",
       "0     NaN  Our Deeds are the Reason of this #earthquake M...     1.0    0   \n",
       "1     NaN             Forest fire near La Ronge Sask. Canada     1.0    0   \n",
       "2     NaN  All residents asked to 'shelter in place' are ...     1.0    0   \n",
       "3     NaN  13,000 people receive #wildfires evacuation or...     1.0    0   \n",
       "4     NaN  Just got sent this photo from Ruby #Alaska as ...     1.0    0   \n",
       "\n",
       "   new york  worldwide  washington  england  los angeles  uk  california  \\\n",
       "0         0          0           0        0            0   0           0   \n",
       "1         0          0           0        0            0   0           0   \n",
       "2         0          0           0        0            0   0           0   \n",
       "3         0          0           0        0            0   0           0   \n",
       "4         0          0           0        0            0   0           0   \n",
       "\n",
       "   canada  nigeria  \n",
       "0       0        0  \n",
       "1       0        0  \n",
       "2       0        0  \n",
       "3       0        0  \n",
       "4       0        0  "
      ]
     },
     "execution_count": 5,
     "metadata": {},
     "output_type": "execute_result"
    }
   ],
   "source": [
    "dataset.head()"
   ]
  },
  {
   "cell_type": "code",
   "execution_count": 6,
   "metadata": {},
   "outputs": [],
   "source": [
    "X = dataset.drop('target',axis=1)\n",
    "y = dataset['target']"
   ]
  },
  {
   "cell_type": "code",
   "execution_count": 7,
   "metadata": {},
   "outputs": [
    {
     "data": {
      "text/plain": [
       "(7613, 12)"
      ]
     },
     "execution_count": 7,
     "metadata": {},
     "output_type": "execute_result"
    }
   ],
   "source": [
    "X.shape"
   ]
  },
  {
   "cell_type": "markdown",
   "metadata": {},
   "source": [
    "## Dataset preprosessing"
   ]
  },
  {
   "cell_type": "code",
   "execution_count": 8,
   "metadata": {},
   "outputs": [],
   "source": [
    "\n",
    "ps = PorterStemmer()\n",
    "corpusTrain= []\n",
    "corpusTest= []"
   ]
  },
  {
   "cell_type": "code",
   "execution_count": 9,
   "metadata": {},
   "outputs": [
    {
     "data": {
      "text/plain": [
       "(7613, 13)"
      ]
     },
     "execution_count": 9,
     "metadata": {},
     "output_type": "execute_result"
    }
   ],
   "source": [
    "dataset.shape"
   ]
  },
  {
   "cell_type": "code",
   "execution_count": 10,
   "metadata": {},
   "outputs": [],
   "source": [
    "def datapreporsesing(data,store):\n",
    "    \n",
    "    for i in range(len(data)):\n",
    "        review = re.sub('[^a-zA-Z]',' ',str(data['text'][i]))\n",
    "        review = review.lower()\n",
    "        review = review.split()\n",
    "        review = [ps.stem(word) for word in review if not word in stopwords.words('english')]\n",
    "        review = ' '.join(review)\n",
    "        store.append(review)"
   ]
  },
  {
   "cell_type": "code",
   "execution_count": 11,
   "metadata": {},
   "outputs": [],
   "source": [
    "datapreporsesing(dataset,corpusTrain)\n",
    "datapreporsesing(df,corpusTest)"
   ]
  },
  {
   "cell_type": "code",
   "execution_count": 12,
   "metadata": {},
   "outputs": [
    {
     "data": {
      "text/plain": [
       "7613"
      ]
     },
     "execution_count": 12,
     "metadata": {},
     "output_type": "execute_result"
    }
   ],
   "source": [
    "len(corpusTrain)"
   ]
  },
  {
   "cell_type": "code",
   "execution_count": 13,
   "metadata": {},
   "outputs": [
    {
     "data": {
      "text/plain": [
       "['deed reason earthquak may allah forgiv us',\n",
       " 'forest fire near la rong sask canada',\n",
       " 'resid ask shelter place notifi offic evacu shelter place order expect',\n",
       " 'peopl receiv wildfir evacu order california',\n",
       " 'got sent photo rubi alaska smoke wildfir pour school',\n",
       " 'rockyfir updat california hwi close direct due lake counti fire cafir wildfir',\n",
       " 'flood disast heavi rain caus flash flood street manit colorado spring area',\n",
       " 'top hill see fire wood',\n",
       " 'emerg evacu happen build across street',\n",
       " 'afraid tornado come area']"
      ]
     },
     "execution_count": 13,
     "metadata": {},
     "output_type": "execute_result"
    }
   ],
   "source": [
    "corpusTrain[:10]"
   ]
  },
  {
   "cell_type": "code",
   "execution_count": 14,
   "metadata": {},
   "outputs": [
    {
     "data": {
      "text/plain": [
       "['brooo got annihil http co ur qkqg wf',\n",
       " 'albertbr probabl annihil need dd',\n",
       " 'gmcr long rgreen mountain red mountain stock annihil hour',\n",
       " 'pleas sign amp rt save saltriverwildhors http co gb ispiarp http co bx l inc',\n",
       " 'alli plan annihil german peopl http co ruhxglo q http co hbupkzwdwq loui nizer interest',\n",
       " 'pleas share sign petit save wild hors arizona http co tssxphufe',\n",
       " 'u nation park servic tonto nation forest stop annihil salt river wild hors http co latvr rzck via chang',\n",
       " 'new soul punish annihil http co cmnv vyfcq',\n",
       " 'latest updat salt river wild hors round http co wjscdvcevh via chang',\n",
       " 'u nation park servic tonto nation forest stop annihil salt river wild hors http co w rhtuey via chang']"
      ]
     },
     "execution_count": 14,
     "metadata": {},
     "output_type": "execute_result"
    }
   ],
   "source": [
    "corpusTest[100:110]"
   ]
  },
  {
   "cell_type": "code",
   "execution_count": 15,
   "metadata": {},
   "outputs": [],
   "source": [
    "oneHotTrain = [one_hot(i,vocSize) for i in corpusTrain]\n",
    "oneHotTest = [one_hot(i,vocSize) for i in corpusTest]"
   ]
  },
  {
   "cell_type": "code",
   "execution_count": 16,
   "metadata": {},
   "outputs": [
    {
     "data": {
      "text/plain": [
       "[[4942, 975, 2173, 4024, 1885, 1278, 1297],\n",
       " [4141, 1282, 4520, 3066, 1394, 1668, 3626],\n",
       " [2694, 3272, 720, 4925, 818, 3377, 282, 720, 4925, 850, 2720],\n",
       " [3364, 200, 883, 282, 850, 2713],\n",
       " [2249, 3330, 3176, 3075, 733, 1665, 883, 3602, 3831],\n",
       " [1561, 1389, 2713, 39, 4768, 88, 830, 1625, 4664, 1282, 4858, 883],\n",
       " [1676, 2711, 258, 926, 1356, 2989, 1676, 4234, 1815, 1144, 3037, 4390],\n",
       " [2451, 3897, 2035, 1282, 3214],\n",
       " [498, 282, 1139, 2118, 2493, 4234],\n",
       " [3143, 2661, 1488, 4390]]"
      ]
     },
     "execution_count": 16,
     "metadata": {},
     "output_type": "execute_result"
    }
   ],
   "source": [
    "oneHotTrain[:10]"
   ]
  },
  {
   "cell_type": "code",
   "execution_count": 17,
   "metadata": {},
   "outputs": [
    {
     "data": {
      "text/plain": [
       "[[2931, 2249, 652, 4321, 1436, 2663, 2167, 4626],\n",
       " [182, 3229, 652, 1312, 4953],\n",
       " [223, 2009, 2907, 3700, 1481, 3700, 2572, 652, 1616],\n",
       " [3233,\n",
       "  1299,\n",
       "  2187,\n",
       "  738,\n",
       "  3662,\n",
       "  2543,\n",
       "  4321,\n",
       "  1436,\n",
       "  1889,\n",
       "  3537,\n",
       "  4321,\n",
       "  1436,\n",
       "  4144,\n",
       "  1646,\n",
       "  1760],\n",
       " [3746,\n",
       "  4223,\n",
       "  652,\n",
       "  1621,\n",
       "  3364,\n",
       "  4321,\n",
       "  1436,\n",
       "  3073,\n",
       "  3231,\n",
       "  4321,\n",
       "  1436,\n",
       "  2671,\n",
       "  235,\n",
       "  1966,\n",
       "  3050],\n",
       " [3233, 3327, 1299, 1842, 3662, 1103, 1168, 4238, 4321, 1436, 1962],\n",
       " [3001,\n",
       "  3664,\n",
       "  1024,\n",
       "  3034,\n",
       "  3061,\n",
       "  3664,\n",
       "  4141,\n",
       "  3043,\n",
       "  652,\n",
       "  497,\n",
       "  4454,\n",
       "  1103,\n",
       "  1168,\n",
       "  4321,\n",
       "  1436,\n",
       "  2886,\n",
       "  2973,\n",
       "  3656,\n",
       "  216],\n",
       " [953, 4571, 2611, 652, 4321, 1436, 1475, 2687],\n",
       " [3817, 1389, 497, 4454, 1103, 1168, 567, 4321, 1436, 1590, 3656, 216],\n",
       " [3001,\n",
       "  3664,\n",
       "  1024,\n",
       "  3034,\n",
       "  3061,\n",
       "  3664,\n",
       "  4141,\n",
       "  3043,\n",
       "  652,\n",
       "  497,\n",
       "  4454,\n",
       "  1103,\n",
       "  1168,\n",
       "  4321,\n",
       "  1436,\n",
       "  2881,\n",
       "  450,\n",
       "  3656,\n",
       "  216]]"
      ]
     },
     "execution_count": 17,
     "metadata": {},
     "output_type": "execute_result"
    }
   ],
   "source": [
    "oneHotTest[100:110]"
   ]
  },
  {
   "cell_type": "code",
   "execution_count": 18,
   "metadata": {},
   "outputs": [],
   "source": [
    "\n",
    "TrainLen = max(len(i) for i in oneHotTrain)\n",
    "TestLen = max(len(i) for i in oneHotTest)\n",
    "senLen = max(TrainLen,TestLen)+1"
   ]
  },
  {
   "cell_type": "code",
   "execution_count": 19,
   "metadata": {},
   "outputs": [
    {
     "name": "stdout",
     "output_type": "stream",
     "text": [
      "(7613, 28) (3263, 28)\n"
     ]
    }
   ],
   "source": [
    "embededTrain = pad_sequences(oneHotTrain,maxlen=senLen,padding='pre')\n",
    "embededTest = pad_sequences(oneHotTest,maxlen=senLen,padding='pre')\n",
    "print(embededTrain.shape,embededTest.shape)"
   ]
  },
  {
   "cell_type": "markdown",
   "metadata": {},
   "source": [
    "# Creating Model"
   ]
  },
  {
   "cell_type": "code",
   "execution_count": 20,
   "metadata": {},
   "outputs": [
    {
     "name": "stdout",
     "output_type": "stream",
     "text": [
      "Model: \"sequential\"\n",
      "_________________________________________________________________\n",
      " Layer (type)                Output Shape              Param #   \n",
      "=================================================================\n",
      " embedding (Embedding)       (None, 28, 50)            250000    \n",
      "                                                                 \n",
      " lstm (LSTM)                 (None, 100)               60400     \n",
      "                                                                 \n",
      " dense (Dense)               (None, 1)                 101       \n",
      "                                                                 \n",
      "=================================================================\n",
      "Total params: 310,501\n",
      "Trainable params: 310,501\n",
      "Non-trainable params: 0\n",
      "_________________________________________________________________\n",
      "None\n"
     ]
    }
   ],
   "source": [
    "embeddingVectorFeature = 50\n",
    "model=Sequential()\n",
    "model.add(Embedding(vocSize,embeddingVectorFeature,input_length=senLen))\n",
    "model.add(LSTM(100))\n",
    "model.add(Dense(1,activation='sigmoid'))\n",
    "model.compile(loss='binary_crossentropy',optimizer='adam',metrics=['accuracy'])\n",
    "print(model.summary())"
   ]
  },
  {
   "cell_type": "markdown",
   "metadata": {},
   "source": [
    "from tensorflow.keras.layers import Dropout\n",
    "## Creating model\n",
    "embedding_vector_features=50\n",
    "model=Sequential()\n",
    "model.add(Embedding(vocSize,embedding_vector_features,input_length=txtLen))\n",
    "model.add(Dropout(0.3))\n",
    "model.add(LSTM(100))\n",
    "model.add(Dropout(0.3))\n",
    "model.add(Dense(1,activation='sigmoid'))\n",
    "model.compile(loss='binary_crossentropy',optimizer='adam',metrics=['accuracy'])"
   ]
  },
  {
   "cell_type": "code",
   "execution_count": 21,
   "metadata": {},
   "outputs": [],
   "source": [
    "xFinal = np.array(embededTrain)\n",
    "yFinal = np.array(y)"
   ]
  },
  {
   "cell_type": "code",
   "execution_count": 22,
   "metadata": {},
   "outputs": [
    {
     "data": {
      "text/plain": [
       "(7613, 28)"
      ]
     },
     "execution_count": 22,
     "metadata": {},
     "output_type": "execute_result"
    }
   ],
   "source": [
    "xFinal.shape"
   ]
  },
  {
   "cell_type": "code",
   "execution_count": 23,
   "metadata": {},
   "outputs": [
    {
     "data": {
      "text/plain": [
       "(7613,)"
      ]
     },
     "execution_count": 23,
     "metadata": {},
     "output_type": "execute_result"
    }
   ],
   "source": [
    "yFinal.shape"
   ]
  },
  {
   "cell_type": "code",
   "execution_count": 24,
   "metadata": {},
   "outputs": [],
   "source": [
    "\n",
    "xTrain,xTest,yTrain,yTest = train_test_split(xFinal,yFinal,test_size=0.2,random_state=42)"
   ]
  },
  {
   "cell_type": "code",
   "execution_count": 25,
   "metadata": {},
   "outputs": [
    {
     "name": "stdout",
     "output_type": "stream",
     "text": [
      "Epoch 1/10\n",
      "96/96 [==============================] - 4s 29ms/step - loss: 0.5942 - accuracy: 0.6711 - val_loss: 0.4662 - val_accuracy: 0.7800\n",
      "Epoch 2/10\n",
      "96/96 [==============================] - 2s 23ms/step - loss: 0.3759 - accuracy: 0.8388 - val_loss: 0.5024 - val_accuracy: 0.7774\n",
      "Epoch 3/10\n",
      "96/96 [==============================] - 2s 21ms/step - loss: 0.2763 - accuracy: 0.8880 - val_loss: 0.6057 - val_accuracy: 0.7374\n",
      "Epoch 4/10\n",
      "96/96 [==============================] - 2s 19ms/step - loss: 0.2124 - accuracy: 0.9192 - val_loss: 0.7078 - val_accuracy: 0.7354\n",
      "Epoch 5/10\n",
      "96/96 [==============================] - 2s 19ms/step - loss: 0.1554 - accuracy: 0.9443 - val_loss: 0.9196 - val_accuracy: 0.7288\n",
      "Epoch 6/10\n",
      "96/96 [==============================] - 2s 22ms/step - loss: 0.1093 - accuracy: 0.9619 - val_loss: 1.1171 - val_accuracy: 0.7374\n",
      "Epoch 7/10\n",
      "96/96 [==============================] - 2s 22ms/step - loss: 0.0802 - accuracy: 0.9744 - val_loss: 1.1553 - val_accuracy: 0.7236\n",
      "Epoch 8/10\n",
      "96/96 [==============================] - 2s 21ms/step - loss: 0.0560 - accuracy: 0.9829 - val_loss: 1.3342 - val_accuracy: 0.7196\n",
      "Epoch 9/10\n",
      "96/96 [==============================] - 2s 20ms/step - loss: 0.0435 - accuracy: 0.9870 - val_loss: 1.4372 - val_accuracy: 0.7203\n",
      "Epoch 10/10\n",
      "96/96 [==============================] - 2s 20ms/step - loss: 0.0418 - accuracy: 0.9882 - val_loss: 1.5076 - val_accuracy: 0.7203\n"
     ]
    },
    {
     "data": {
      "text/plain": [
       "<keras.callbacks.History at 0x15eaff633a0>"
      ]
     },
     "execution_count": 25,
     "metadata": {},
     "output_type": "execute_result"
    }
   ],
   "source": [
    "model.fit(xTrain,yTrain,validation_data=(xTest,yTest),epochs=100,batch_size=64)"
   ]
  },
  {
   "cell_type": "code",
   "execution_count": 26,
   "metadata": {},
   "outputs": [],
   "source": [
    "yPred = model.predict(embededTest)"
   ]
  },
  {
   "cell_type": "code",
   "execution_count": 27,
   "metadata": {},
   "outputs": [],
   "source": [
    "yPred = (yPred>0.5)"
   ]
  },
  {
   "cell_type": "code",
   "execution_count": 28,
   "metadata": {},
   "outputs": [],
   "source": [
    "sop = pd.read_csv('sample_submission.csv')"
   ]
  },
  {
   "cell_type": "code",
   "execution_count": 29,
   "metadata": {},
   "outputs": [],
   "source": [
    "sop.drop('target',axis=1,inplace=True)"
   ]
  },
  {
   "cell_type": "code",
   "execution_count": 30,
   "metadata": {},
   "outputs": [],
   "source": [
    "sop['target'] = yPred"
   ]
  },
  {
   "cell_type": "code",
   "execution_count": 31,
   "metadata": {},
   "outputs": [],
   "source": [
    "sop.to_csv('submission.csv',index=False)"
   ]
  },
  {
   "cell_type": "code",
   "execution_count": 34,
   "metadata": {},
   "outputs": [],
   "source": [
    "model.save('model.h5')"
   ]
  },
  {
   "cell_type": "code",
   "execution_count": 37,
   "metadata": {},
   "outputs": [],
   "source": [
    "sub = pd.read_csv('submission1.csv')"
   ]
  },
  {
   "cell_type": "code",
   "execution_count": 38,
   "metadata": {},
   "outputs": [
    {
     "data": {
      "text/html": [
       "<div>\n",
       "<style scoped>\n",
       "    .dataframe tbody tr th:only-of-type {\n",
       "        vertical-align: middle;\n",
       "    }\n",
       "\n",
       "    .dataframe tbody tr th {\n",
       "        vertical-align: top;\n",
       "    }\n",
       "\n",
       "    .dataframe thead th {\n",
       "        text-align: right;\n",
       "    }\n",
       "</style>\n",
       "<table border=\"1\" class=\"dataframe\">\n",
       "  <thead>\n",
       "    <tr style=\"text-align: right;\">\n",
       "      <th></th>\n",
       "      <th>id</th>\n",
       "      <th>target</th>\n",
       "    </tr>\n",
       "  </thead>\n",
       "  <tbody>\n",
       "    <tr>\n",
       "      <th>0</th>\n",
       "      <td>0</td>\n",
       "      <td>False</td>\n",
       "    </tr>\n",
       "    <tr>\n",
       "      <th>1</th>\n",
       "      <td>2</td>\n",
       "      <td>False</td>\n",
       "    </tr>\n",
       "    <tr>\n",
       "      <th>2</th>\n",
       "      <td>3</td>\n",
       "      <td>True</td>\n",
       "    </tr>\n",
       "    <tr>\n",
       "      <th>3</th>\n",
       "      <td>9</td>\n",
       "      <td>False</td>\n",
       "    </tr>\n",
       "    <tr>\n",
       "      <th>4</th>\n",
       "      <td>11</td>\n",
       "      <td>True</td>\n",
       "    </tr>\n",
       "  </tbody>\n",
       "</table>\n",
       "</div>"
      ],
      "text/plain": [
       "   id  target\n",
       "0   0   False\n",
       "1   2   False\n",
       "2   3    True\n",
       "3   9   False\n",
       "4  11    True"
      ]
     },
     "execution_count": 38,
     "metadata": {},
     "output_type": "execute_result"
    }
   ],
   "source": [
    "sub.head()"
   ]
  },
  {
   "cell_type": "code",
   "execution_count": 39,
   "metadata": {},
   "outputs": [],
   "source": [
    "numTarget = []\n",
    "for i in sub['target']:\n",
    "    if i:\n",
    "        numTarget.append(1)\n",
    "    else:\n",
    "        numTarget.append(0)"
   ]
  },
  {
   "cell_type": "code",
   "execution_count": 40,
   "metadata": {},
   "outputs": [],
   "source": [
    "sub['target'] = numTarget"
   ]
  },
  {
   "cell_type": "code",
   "execution_count": 41,
   "metadata": {},
   "outputs": [
    {
     "data": {
      "text/html": [
       "<div>\n",
       "<style scoped>\n",
       "    .dataframe tbody tr th:only-of-type {\n",
       "        vertical-align: middle;\n",
       "    }\n",
       "\n",
       "    .dataframe tbody tr th {\n",
       "        vertical-align: top;\n",
       "    }\n",
       "\n",
       "    .dataframe thead th {\n",
       "        text-align: right;\n",
       "    }\n",
       "</style>\n",
       "<table border=\"1\" class=\"dataframe\">\n",
       "  <thead>\n",
       "    <tr style=\"text-align: right;\">\n",
       "      <th></th>\n",
       "      <th>id</th>\n",
       "      <th>target</th>\n",
       "    </tr>\n",
       "  </thead>\n",
       "  <tbody>\n",
       "    <tr>\n",
       "      <th>0</th>\n",
       "      <td>0</td>\n",
       "      <td>0</td>\n",
       "    </tr>\n",
       "    <tr>\n",
       "      <th>1</th>\n",
       "      <td>2</td>\n",
       "      <td>0</td>\n",
       "    </tr>\n",
       "    <tr>\n",
       "      <th>2</th>\n",
       "      <td>3</td>\n",
       "      <td>1</td>\n",
       "    </tr>\n",
       "    <tr>\n",
       "      <th>3</th>\n",
       "      <td>9</td>\n",
       "      <td>0</td>\n",
       "    </tr>\n",
       "    <tr>\n",
       "      <th>4</th>\n",
       "      <td>11</td>\n",
       "      <td>1</td>\n",
       "    </tr>\n",
       "  </tbody>\n",
       "</table>\n",
       "</div>"
      ],
      "text/plain": [
       "   id  target\n",
       "0   0       0\n",
       "1   2       0\n",
       "2   3       1\n",
       "3   9       0\n",
       "4  11       1"
      ]
     },
     "execution_count": 41,
     "metadata": {},
     "output_type": "execute_result"
    }
   ],
   "source": [
    "sub.head()"
   ]
  },
  {
   "cell_type": "code",
   "execution_count": 42,
   "metadata": {},
   "outputs": [],
   "source": [
    "sub.to_csv('submission1.csv',index=False)"
   ]
  },
  {
   "cell_type": "code",
   "execution_count": null,
   "metadata": {},
   "outputs": [],
   "source": []
  }
 ],
 "metadata": {
  "interpreter": {
   "hash": "8965541cb6359c84263cc33115811eb04bd073b831d2e5bea7fd0202e671468a"
  },
  "kernelspec": {
   "display_name": "Python 3.9.5 ('base')",
   "language": "python",
   "name": "python3"
  },
  "language_info": {
   "codemirror_mode": {
    "name": "ipython",
    "version": 3
   },
   "file_extension": ".py",
   "mimetype": "text/x-python",
   "name": "python",
   "nbconvert_exporter": "python",
   "pygments_lexer": "ipython3",
   "version": "3.9.5"
  },
  "orig_nbformat": 4
 },
 "nbformat": 4,
 "nbformat_minor": 2
}
